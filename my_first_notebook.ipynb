{
 "cells": [
  {
   "cell_type": "code",
   "execution_count": 6,
   "id": "158d391a-e6a9-4fb7-bc41-2d58f701e882",
   "metadata": {},
   "outputs": [],
   "source": [
    "# Hi This is the header for notebook"
   ]
  },
  {
   "cell_type": "code",
   "execution_count": 3,
   "id": "1cf6f350-9a85-4fdb-9756-6cfefd2b764f",
   "metadata": {},
   "outputs": [
    {
     "data": {
      "text/plain": [
       "6"
      ]
     },
     "execution_count": 3,
     "metadata": {},
     "output_type": "execute_result"
    }
   ],
   "source": [
    "4+2"
   ]
  },
  {
   "cell_type": "code",
   "execution_count": 4,
   "id": "b43ab9f2-57c8-459f-8e84-a30cc058d8f5",
   "metadata": {},
   "outputs": [
    {
     "data": {
      "text/plain": [
       "8"
      ]
     },
     "execution_count": 4,
     "metadata": {},
     "output_type": "execute_result"
    }
   ],
   "source": [
    "4+4"
   ]
  },
  {
   "cell_type": "code",
   "execution_count": 1,
   "id": "3010415f-51c0-4c7b-bb58-20267f352de7",
   "metadata": {},
   "outputs": [
    {
     "data": {
      "text/plain": [
       "(2+4j)"
      ]
     },
     "execution_count": 1,
     "metadata": {},
     "output_type": "execute_result"
    }
   ],
   "source": [
    "import qiskit \n",
    "1+6j\n",
    "2+4j"
   ]
  },
  {
   "cell_type": "code",
   "execution_count": null,
   "id": "15915aa8-2ac6-4ebe-8738-dccb10e2740e",
   "metadata": {},
   "outputs": [],
   "source": []
  }
 ],
 "metadata": {
  "kernelspec": {
   "display_name": "Python 3 [Default]",
   "language": "python",
   "name": "python3"
  },
  "language_info": {
   "codemirror_mode": {
    "name": "ipython",
    "version": 3
   },
   "file_extension": ".py",
   "mimetype": "text/x-python",
   "name": "python",
   "nbconvert_exporter": "python",
   "pygments_lexer": "ipython3",
   "version": "3.9.10"
  }
 },
 "nbformat": 4,
 "nbformat_minor": 5
}
